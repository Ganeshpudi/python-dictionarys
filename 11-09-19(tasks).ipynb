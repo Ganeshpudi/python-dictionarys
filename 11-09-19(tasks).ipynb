{
 "cells": [
  {
   "cell_type": "markdown",
   "metadata": {},
   "source": [
    "## Question-1:\n"
   ]
  },
  {
   "cell_type": "markdown",
   "metadata": {},
   "source": [
    "* prime numbers:need to print the series of all prime numbers till n\n",
    "* input formate:10\n",
    "* output formate:2 3 5 7"
   ]
  },
  {
   "cell_type": "code",
   "execution_count": 29,
   "metadata": {},
   "outputs": [
    {
     "name": "stdout",
     "output_type": "stream",
     "text": [
      "Enter value 10\n",
      "2\n",
      "3\n",
      "5\n",
      "7\n"
     ]
    }
   ],
   "source": [
    "r=int(input(\"Enter value \"))\n",
    "for a in range(2,r+1):\n",
    "    k=0\n",
    "    for i in range(2,a//2+1):\n",
    "        if(a%i==0):\n",
    "            k=k+1\n",
    "    if(k<=0):\n",
    "        print(a)"
   ]
  },
  {
   "cell_type": "markdown",
   "metadata": {},
   "source": [
    "# Question-2:\n"
   ]
  },
  {
   "cell_type": "markdown",
   "metadata": {},
   "source": [
    "* Count Divisors: You have been given 3 integers - l, r and k. Find how many numbers between l and r (both inclusive) are divisible by k.\n",
    "* Input Format:1 10 1\n",
    "* Output Format:10"
   ]
  },
  {
   "cell_type": "code",
   "execution_count": 45,
   "metadata": {},
   "outputs": [
    {
     "name": "stdout",
     "output_type": "stream",
     "text": [
      "enter lower value1\n",
      "enter upper value10\n",
      "enter divisible number1\n",
      "10\n"
     ]
    }
   ],
   "source": [
    "a=int(input(\"enter lower value\"))\n",
    "b=int(input(\"enter upper value\"))\n",
    "c=int(input(\"enter divisible number\"))\n",
    "count=0\n",
    "for d in range(a,b+1):\n",
    "    if(d%c)==0:\n",
    "        count+=1\n",
    "print(count)\n",
    "    "
   ]
  },
  {
   "cell_type": "markdown",
   "metadata": {},
   "source": [
    "# Question-3:\n"
   ]
  },
  {
   "cell_type": "markdown",
   "metadata": {},
   "source": [
    "* Word Frequency: need to print words with frequency from given sentence (string) in dictionary format\n",
    "* Input Format:\n",
    "* ravi ramu balu ravi raghu\n",
    "* Output Format:{“ravi”:2, “ramu”:1, “balu”:1, “raghu”:1}"
   ]
  },
  {
   "cell_type": "code",
   "execution_count": 46,
   "metadata": {},
   "outputs": [
    {
     "data": {
      "text/plain": [
       "{'ravi': 2, 'ramu': 1, 'balu': 1, 'raghu': 1}"
      ]
     },
     "execution_count": 46,
     "metadata": {},
     "output_type": "execute_result"
    }
   ],
   "source": [
    "s=\"ravi\",\"ramu\",\"balu\",\"ravi\",\"raghu\"\n",
    "d={}\n",
    "for char in s:\n",
    "    d[char]=d.get(char,0)+1\n",
    "d"
   ]
  },
  {
   "cell_type": "code",
   "execution_count": null,
   "metadata": {},
   "outputs": [],
   "source": []
  }
 ],
 "metadata": {
  "kernelspec": {
   "display_name": "Python 3",
   "language": "python",
   "name": "python3"
  },
  "language_info": {
   "codemirror_mode": {
    "name": "ipython",
    "version": 3
   },
   "file_extension": ".py",
   "mimetype": "text/x-python",
   "name": "python",
   "nbconvert_exporter": "python",
   "pygments_lexer": "ipython3",
   "version": "3.7.3"
  }
 },
 "nbformat": 4,
 "nbformat_minor": 2
}
